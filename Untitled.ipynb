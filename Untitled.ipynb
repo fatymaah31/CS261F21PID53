{
 "cells": [
  {
   "cell_type": "code",
   "execution_count": 22,
   "id": "063fb2f9",
   "metadata": {},
   "outputs": [
    {
     "name": "stdout",
     "output_type": "stream",
     "text": [
      "*NEW* WAP (Buy 1 Get 3 FREE)\n",
      "Boom (BUY 1 GET 3 FREE)\n",
      "Reset (5 Unlimited for $50)\n",
      "Expensive Pain\n",
      "SHE HOT (YG x Lil Pump x DaBaby)\n",
      "P-Valley - CLUB ANTHEM x TWERK TRAP -\n",
      "Tyga Type Beat (ADITC)\n",
      "THE PUMP\n",
      "FREE 2021 Club Banger Type Beat  \"Star Status\"\n",
      "Better Have Your Gun / Meek Mill Type Beat\n"
     ]
    }
   ],
   "source": [
    "import csv\n",
    "songs=[]\n",
    "genre=[]\n",
    "subgenre=[]\n",
    "artistName=[]\n",
    "albumprice=[]\n",
    "tags=[]\n",
    "ignore=False\n",
    "with open('songs1.csv',encoding=\"cp437\") as csvfile:    \n",
    "    csvReader = csv.reader(csvfile)    \n",
    "    for row in csvReader:  \n",
    "        if(ignore==True):\n",
    "            songs.append(row[0])\n",
    "            genre.append(row[1])\n",
    "            subgenre.append(row[2])\n",
    "            artistName.append(row[3])\n",
    "            albumprice.append(row[4])\n",
    "            tags.append(row[5])\n",
    "        ignore=True \n",
    "\n",
    "for i in range(10):\n",
    "    print(songs[i])"
   ]
  },
  {
   "cell_type": "code",
   "execution_count": 17,
   "id": "79e5d898",
   "metadata": {},
   "outputs": [
    {
     "name": "stdout",
     "output_type": "stream",
     "text": [
      "*NEW* WAP (Buy 1 Get 3 FREE)\n",
      "Boom (BUY 1 GET 3 FREE)\n",
      "Reset (5 Unlimited for $50)\n",
      "Expensive Pain\n",
      "SHE HOT (YG x Lil Pump x DaBaby)\n",
      "P-Valley - CLUB ANTHEM x TWERK TRAP -\n",
      "Tyga Type Beat (ADITC)\n",
      "THE PUMP\n",
      "FREE 2021 Club Banger Type Beat  \"Star Status\"\n",
      "Better Have Your Gun / Meek Mill Type Beat\n"
     ]
    }
   ],
   "source": [
    "import pandas as pd\n",
    "songs=[]\n",
    "genre=[]\n",
    "subgenre=[]\n",
    "artistName=[]\n",
    "albumprice=[]\n",
    "tags=[]\n",
    "listt = pd.read_csv('C:\\\\Users\\\\fatym\\\\OneDrive\\\\Documents\\\\mid project dsa\\\\CS261F21PID53\\songs1.csv')\n",
    "for i in range(len(listt)):\n",
    "    songs.append(str(listt[\"Songs Title\"][i]))\n",
    "    genre.append(str(listt[\"Genre\"][i]))\n",
    "    subgenre.append(str(listt[\"Sub Genre\"][i]))\n",
    "    artistName.append(str(listt[\"Artist/Album Name\"][i]))\n",
    "    albumprice.append(str(listt[\"Album Price\"][i]))\n",
    "    tags.append(str(listt[\"Tags\"][i]))\n",
    "\n",
    "\n",
    "        "
   ]
  },
  {
   "cell_type": "code",
   "execution_count": null,
   "id": "86d91e67",
   "metadata": {},
   "outputs": [],
   "source": []
  }
 ],
 "metadata": {
  "kernelspec": {
   "display_name": "Python 3",
   "language": "python",
   "name": "python3"
  },
  "language_info": {
   "codemirror_mode": {
    "name": "ipython",
    "version": 3
   },
   "file_extension": ".py",
   "mimetype": "text/x-python",
   "name": "python",
   "nbconvert_exporter": "python",
   "pygments_lexer": "ipython3",
   "version": "3.8.8"
  }
 },
 "nbformat": 4,
 "nbformat_minor": 5
}
